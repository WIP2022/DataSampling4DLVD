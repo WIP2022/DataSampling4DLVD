{
 "cells": [
  {
   "cell_type": "code",
   "execution_count": null,
   "id": "2cf15078",
   "metadata": {},
   "outputs": [],
   "source": [
    "import torch\n",
    "import torch.nn as nn"
   ]
  },
  {
   "cell_type": "code",
   "execution_count": null,
   "id": "d81b485e",
   "metadata": {},
   "outputs": [],
   "source": [
    "from sklearn.metrics import accuracy_score, precision_score, recall_score, f1_score, confusion_matrix, \\\n",
    "    average_precision_score, classification_report, roc_curve, auc, top_k_accuracy_score, ndcg_score"
   ]
  },
  {
   "cell_type": "code",
   "execution_count": null,
   "id": "4ecb9aa5",
   "metadata": {},
   "outputs": [],
   "source": [
    "from tqdm import tqdm"
   ]
  },
  {
   "cell_type": "code",
   "execution_count": null,
   "id": "51360350",
   "metadata": {},
   "outputs": [],
   "source": [
    "from torch.utils.data import TensorDataset,Dataset,DataLoader"
   ]
  },
  {
   "cell_type": "code",
   "execution_count": null,
   "id": "b7dc0cfb",
   "metadata": {},
   "outputs": [],
   "source": [
    "def my_metric(all_predictions, all_targets, all_probs):\n",
    "    fpr, tpr, _ = roc_curve(all_targets, all_probs)\n",
    "    auc_score = round(auc(fpr, tpr) * 100, 2)\n",
    "    acc = round(accuracy_score(all_targets, all_predictions) * 100, 2)\n",
    "    precision = round(precision_score(all_targets, all_predictions) * 100, 2)\n",
    "    f1 = round(f1_score(all_targets, all_predictions) * 100, 2)\n",
    "    recall = round(recall_score(all_targets, all_predictions) * 100, 2)\n",
    "    matrix =  confusion_matrix(all_targets, all_predictions)\n",
    "    target_names = ['non-vul', 'vul']\n",
    "    report = classification_report(all_targets, all_predictions, target_names=target_names)\n",
    "    result = f'auc: {auc_score} acc: {acc} precision: {precision} recall: {recall} f1: {f1} \\nreport:\\n{report}\\nmatrix:\\n{matrix}'\n",
    "    print(result)  "
   ]
  },
  {
   "cell_type": "code",
   "execution_count": null,
   "id": "7032fa75",
   "metadata": {},
   "outputs": [],
   "source": [
    "ep = 9"
   ]
  },
  {
   "cell_type": "code",
   "execution_count": null,
   "id": "409a0a8a",
   "metadata": {},
   "outputs": [],
   "source": [
    "train_X = torch.load(f'smote_data/stage_1_output/train_X_ep_{ep}.dt')\n",
    "train_y = torch.load(f'smote_data/stage_1_output/train_y_ep_{ep}.dt')"
   ]
  },
  {
   "cell_type": "code",
   "execution_count": null,
   "id": "d7cf7a4e",
   "metadata": {},
   "outputs": [],
   "source": [
    "test_X = torch.load(f'smote_data/stage_1_output/test_X_ep_{ep}.dt')\n",
    "test_y = torch.load(f'smote_data/stage_1_output/test_y_ep_{ep}.dt')"
   ]
  },
  {
   "cell_type": "code",
   "execution_count": null,
   "id": "6bbb5958",
   "metadata": {},
   "outputs": [],
   "source": [
    "print(train_X.shape,train_y.shape,test_X.shape,test_y.shape)"
   ]
  },
  {
   "cell_type": "code",
   "execution_count": null,
   "id": "4d917761",
   "metadata": {},
   "outputs": [],
   "source": [
    "from imblearn.over_sampling import SMOTE\n",
    "sm = SMOTE(random_state=42)\n",
    "train_X_sampled, train_y_sampled = sm.fit_resample(train_X, train_y)"
   ]
  },
  {
   "cell_type": "code",
   "execution_count": null,
   "id": "a0d3e728",
   "metadata": {},
   "outputs": [],
   "source": [
    "print(train_X_sampled.shape,train_y_sampled.shape)"
   ]
  },
  {
   "cell_type": "code",
   "execution_count": null,
   "id": "ecafba6a",
   "metadata": {},
   "outputs": [],
   "source": [
    "from sklearn.neural_network import MLPClassifier \n",
    "mlp = MLPClassifier(solver='adam',alpha=1e-5,hidden_layer_sizes=100,random_state=42,max_iter=1000)"
   ]
  },
  {
   "cell_type": "code",
   "execution_count": null,
   "id": "47e9db2a",
   "metadata": {},
   "outputs": [],
   "source": [
    "mlp.fit(train_X_sampled,train_y_sampled)"
   ]
  },
  {
   "cell_type": "code",
   "execution_count": null,
   "id": "11c51ba1",
   "metadata": {},
   "outputs": [],
   "source": [
    "predictions_mlp = mlp.predict(test_X)\n",
    "probs_mlp = mlp.predict_proba(test_X)\n",
    "probs_mlp = probs_mlp[:,1]"
   ]
  },
  {
   "cell_type": "code",
   "execution_count": null,
   "id": "57e28e79",
   "metadata": {},
   "outputs": [],
   "source": [
    "my_metric(predictions_mlp, test_y.squeeze(1), probs_mlp)"
   ]
  },
  {
   "cell_type": "code",
   "execution_count": null,
   "id": "4a4fe0bf",
   "metadata": {},
   "outputs": [],
   "source": []
  }
 ],
 "metadata": {
  "kernelspec": {
   "display_name": "Python 3",
   "language": "python",
   "name": "python3"
  },
  "language_info": {
   "codemirror_mode": {
    "name": "ipython",
    "version": 3
   },
   "file_extension": ".py",
   "mimetype": "text/x-python",
   "name": "python",
   "nbconvert_exporter": "python",
   "pygments_lexer": "ipython3",
   "version": "3.8.8"
  }
 },
 "nbformat": 4,
 "nbformat_minor": 5
}
