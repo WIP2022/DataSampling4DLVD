{
 "cells": [
  {
   "cell_type": "code",
   "execution_count": 1,
   "id": "1686b7bd-6d0c-475c-8016-4424849df157",
   "metadata": {},
   "outputs": [],
   "source": [
    "import pickle"
   ]
  },
  {
   "cell_type": "code",
   "execution_count": 10,
   "id": "81eeeb8d-83a5-473c-aef3-d7cc71da0345",
   "metadata": {},
   "outputs": [],
   "source": [
    "with open(f'lime_output/msr_4x_zip_exp_line_prob.pkl', \"rb\" ) as f:\n",
    "    x = pickle.load(f)"
   ]
  },
  {
   "cell_type": "code",
   "execution_count": 11,
   "id": "89419654-3251-4007-82d9-a35df273d843",
   "metadata": {},
   "outputs": [
    {
     "data": {
      "text/plain": [
       "652"
      ]
     },
     "execution_count": 11,
     "metadata": {},
     "output_type": "execute_result"
    }
   ],
   "source": [
    "len(x)"
   ]
  },
  {
   "cell_type": "code",
   "execution_count": 15,
   "id": "b616cf56-0e12-4374-98b5-8531e66b75c2",
   "metadata": {},
   "outputs": [
    {
     "name": "stdout",
     "output_type": "stream",
     "text": [
      "0.45245398773006135\n"
     ]
    }
   ],
   "source": [
    "counter = 0\n",
    "for exp,line,prob,_ in x:\n",
    "    exp = exp[:1]\n",
    "    for focus_line, importance_score in exp:\n",
    "        if importance_score > 0:\n",
    "            if focus_line in line:\n",
    "                # print(focus_line)\n",
    "                counter += 1\n",
    "                break\n",
    "                # print('focus:',focus_line)\n",
    "                # print('vul line',line)\n",
    "print(counter/len(x))"
   ]
  },
  {
   "cell_type": "code",
   "execution_count": 46,
   "id": "34ed3125-c9db-4a03-9e62-fc923d60b394",
   "metadata": {},
   "outputs": [],
   "source": [
    "with open(f'lime_output/msr_ros_zip_exp_line_prob.pkl', \"rb\" ) as f:\n",
    "    x2 = pickle.load(f)"
   ]
  },
  {
   "cell_type": "code",
   "execution_count": 47,
   "id": "ddfab645-b9da-4542-b67e-13fb0134bd82",
   "metadata": {},
   "outputs": [
    {
     "data": {
      "text/plain": [
       "606"
      ]
     },
     "execution_count": 47,
     "metadata": {},
     "output_type": "execute_result"
    }
   ],
   "source": [
    "len(x2)"
   ]
  },
  {
   "cell_type": "code",
   "execution_count": 32,
   "id": "d80ef8cd-ce9b-439a-9ea7-d7d9c6450016",
   "metadata": {},
   "outputs": [
    {
     "name": "stdout",
     "output_type": "stream",
     "text": [
      "0.8201320132013201\n"
     ]
    }
   ],
   "source": [
    "counter = 0\n",
    "for exp,line,prob in x2:\n",
    "    exp = exp[:10]\n",
    "    for focus_line, importance_score in exp:\n",
    "        if importance_score > 0:\n",
    "            if focus_line in line:\n",
    "                counter += 1\n",
    "                break\n",
    "                # print('focus:',focus_line)\n",
    "                # print('vul line',line)\n",
    "print(counter/len(x2))"
   ]
  },
  {
   "cell_type": "code",
   "execution_count": 33,
   "id": "8cd6ee3f-feb7-4bfc-a556-700f0d961121",
   "metadata": {},
   "outputs": [],
   "source": [
    "with open(f'lime_output/msr_origin_zip_exp_line_prob.pkl', \"rb\" ) as f:\n",
    "    x3 = pickle.load(f)"
   ]
  },
  {
   "cell_type": "code",
   "execution_count": 39,
   "id": "86d631e9-8a6d-411d-9b8e-e6aac4cb60af",
   "metadata": {},
   "outputs": [
    {
     "data": {
      "text/plain": [
       "18"
      ]
     },
     "execution_count": 39,
     "metadata": {},
     "output_type": "execute_result"
    }
   ],
   "source": [
    "len(x3)"
   ]
  },
  {
   "cell_type": "code",
   "execution_count": 37,
   "id": "1428d308-40a4-4b1d-85da-5b76c35b296a",
   "metadata": {},
   "outputs": [
    {
     "name": "stdout",
     "output_type": "stream",
     "text": [
      "0.6666666666666666\n"
     ]
    }
   ],
   "source": [
    "counter = 0\n",
    "for exp,line,prob in x3:\n",
    "    exp = exp[:10]\n",
    "    for focus_line, importance_score in exp:\n",
    "        if importance_score > 0:\n",
    "            if focus_line in line:\n",
    "                counter += 1\n",
    "                break\n",
    "                # print('focus:',focus_line)\n",
    "                # print('vul line',line)\n",
    "            \n",
    "print(counter/len(x3))"
   ]
  },
  {
   "cell_type": "code",
   "execution_count": 45,
   "id": "06ab81b2-9b99-4f7b-b4e9-f9a50e5dbb98",
   "metadata": {},
   "outputs": [
    {
     "data": {
      "text/plain": [
       "1270"
      ]
     },
     "execution_count": 45,
     "metadata": {},
     "output_type": "execute_result"
    }
   ],
   "source": [
    "len(x3)"
   ]
  },
  {
   "cell_type": "code",
   "execution_count": 17,
   "id": "a4c00c63-369f-471b-b586-1800810f9f7b",
   "metadata": {},
   "outputs": [],
   "source": [
    "with open(f'lime_output/msr_rus_zip_exp_line_prob.pkl', \"rb\" ) as f:\n",
    "    x3 = pickle.load(f)"
   ]
  },
  {
   "cell_type": "code",
   "execution_count": 20,
   "id": "3244d639-77a4-428c-9aa5-d8fa49a02eed",
   "metadata": {},
   "outputs": [
    {
     "name": "stdout",
     "output_type": "stream",
     "text": [
      "0.31683168316831684\n"
     ]
    }
   ],
   "source": [
    "index = 0\n",
    "counter = 0\n",
    "for exp,line,prob,_ in x3:\n",
    "    index += 1\n",
    "    if index > 606:\n",
    "        break\n",
    "    exp = exp[:1]\n",
    "    for focus_line, importance_score in exp:\n",
    "        if importance_score > 0:\n",
    "            if focus_line in line:\n",
    "                counter += 1\n",
    "                break\n",
    "                # print('focus:',focus_line)\n",
    "                # print('vul line',line)\n",
    "            \n",
    "print(counter/606)"
   ]
  },
  {
   "cell_type": "code",
   "execution_count": null,
   "id": "1f2f2e7e-6944-4414-8bdd-ff2390722dfe",
   "metadata": {},
   "outputs": [],
   "source": []
  },
  {
   "cell_type": "code",
   "execution_count": null,
   "id": "98611d03-fec0-4bec-bd15-65b10f06376c",
   "metadata": {},
   "outputs": [],
   "source": []
  }
 ],
 "metadata": {
  "kernelspec": {
   "display_name": "transformer_env",
   "language": "python",
   "name": "transformer_env"
  },
  "language_info": {
   "codemirror_mode": {
    "name": "ipython",
    "version": 3
   },
   "file_extension": ".py",
   "mimetype": "text/x-python",
   "name": "python",
   "nbconvert_exporter": "python",
   "pygments_lexer": "ipython3",
   "version": "3.8.8"
  }
 },
 "nbformat": 4,
 "nbformat_minor": 5
}
