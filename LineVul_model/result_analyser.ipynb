{
 "cells": [
  {
   "cell_type": "code",
   "execution_count": 1,
   "metadata": {
    "pycharm": {
     "name": "#%%\n"
    }
   },
   "outputs": [],
   "source": [
    "import logging\n",
    "import sys\n",
    "import json\n",
    "import numpy as np\n",
    "from sklearn.metrics import f1_score, precision_score, recall_score, accuracy_score,roc_curve, auc, confusion_matrix,classification_report\n",
    "\n",
    "def read_answers(filename):\n",
    "    answers={}\n",
    "    with open(filename) as f:\n",
    "        for line in f:\n",
    "            line=line.strip()\n",
    "            js=json.loads(line)\n",
    "            answers[js['idx']]=js['target']\n",
    "    return answers\n",
    "\n",
    "def read_predictions(filename):\n",
    "    predictions={}\n",
    "    with open(filename) as f:\n",
    "        for line in f:\n",
    "            line=line.strip()\n",
    "            idx,label=line.split()\n",
    "            predictions[int(idx)]=int(label)\n",
    "    return predictions\n",
    "\n",
    "def read_predictions_prob(filename):\n",
    "    predictions_prob={}\n",
    "    with open(filename) as f:\n",
    "        for line in f:\n",
    "            line=line.strip()\n",
    "            idx,label=line.split()\n",
    "            predictions_prob[int(idx)]= float(label)\n",
    "    return predictions_prob\n",
    "\n",
    "def calculate_scores(answers,predictions,predictions_prob):\n",
    "    Acc=[]\n",
    "    Ans=[]\n",
    "    Pred=[]\n",
    "    Pred_prob=[]\n",
    "    for key in answers:\n",
    "        Ans.append(answers[key])\n",
    "        if key not in predictions:\n",
    "            logging.error(\"Missing prediction for index {}.\".format(key))\n",
    "            sys.exit()\n",
    "        Acc.append(answers[key]==predictions[key])\n",
    "    for key in predictions:\n",
    "        Pred.append(predictions[key])\n",
    "    for key in predictions_prob:\n",
    "        Pred_prob.append(predictions_prob[key])\n",
    "    scores={}\n",
    "    results = []\n",
    "#     scores['acc']=np.mean(Acc)\n",
    "    fpr, tpr, _ = roc_curve(Ans, Pred_prob)\n",
    "    results.append(auc(fpr, tpr)*100)\n",
    "    results.append(accuracy_score(Ans,Pred)*100)\n",
    "    results.append(recall_score(Ans,Pred)*100)\n",
    "    results.append(precision_score(Ans,Pred,zero_division=0)*100)\n",
    "    results.append(f1_score(Ans,Pred,zero_division=0)*100)\n",
    "    zipped_result = zip(Ans,Pred,Pred_prob)\n",
    "    sorted_zip = sorted(zipped_result, key=lambda x: x[2],reverse=True)\n",
    "    print(confusion_matrix(Ans,Pred))\n",
    "#     print('auc\\t',auc(fpr, tpr))\n",
    "#     print('acc\\t',accuracy_score(Ans,Pred))\n",
    "#     print('f1\\t',f1_score(Ans,Pred))\n",
    "#     print('recall\\t',recall_score(Ans,Pred))\n",
    "#     print('precision\\t',precision_score(Ans,Pred))\n",
    "    print(results)\n",
    "    return results,sorted_zip,Pred_prob\n"
   ]
  },
  {
   "cell_type": "code",
   "execution_count": 2,
   "metadata": {
    "pycharm": {
     "name": "#%%\n"
    }
   },
   "outputs": [],
   "source": [
    "def read_output(test_dir,result_dir):\n",
    "    answers=read_answers(test_dir+'test.jsonl')\n",
    "    predictions=read_predictions(result_dir+'predictions.txt')\n",
    "    predictions_prob = read_predictions_prob(result_dir+'predictions_prob.txt')\n",
    "    scores,sorted_zip, Pred_prob=calculate_scores(answers,predictions,predictions_prob)\n",
    "    return scores,sorted_zip,Pred_prob"
   ]
  },
  {
   "cell_type": "code",
   "execution_count": 3,
   "metadata": {
    "pycharm": {
     "name": "#%%\n"
    }
   },
   "outputs": [
    {
     "name": "stdout",
     "output_type": "stream",
     "text": [
      "msr_output/ros_msr/saved_models_0/\n",
      "[[34518  1005]\n",
      " [ 1384   821]]\n",
      "[76.60132239704429, 93.66783290924512, 37.23356009070295, 44.961664841182916, 40.734309104440584]\n",
      "msr_output/ros_msr/saved_models_1/\n",
      "[[34550   952]\n",
      " [ 1402   824]]\n",
      "[80.29656200986969, 93.76060220525869, 37.01707097933513, 46.3963963963964, 41.17941029485258]\n",
      "msr_output/ros_msr/saved_models_2/\n",
      "[[34610   964]\n",
      " [ 1389   765]]\n",
      "[74.40449763551453, 93.76325275657337, 35.515320334261844, 44.24522845575477, 39.40252382178728]\n",
      "msr_output/ros_msr/saved_models_3/\n",
      "[[34615   941]\n",
      " [ 1361   811]]\n",
      "[80.82965498670217, 93.89843087362172, 37.338858195211785, 46.289954337899545, 41.335372069317025]\n",
      "msr_output/ros_msr/saved_models_4/\n",
      "[[34665   864]\n",
      " [ 1394   805]]\n",
      "[70.99250026920473, 94.01505513146734, 36.607548885857206, 48.23247453565009, 41.623578076525334]\n",
      "msr_output/ros_msr/saved_models_5/\n",
      "[[34676   888]\n",
      " [ 1400   764]]\n",
      "[74.2297515858006, 93.93553859202714, 35.304990757855826, 46.246973365617436, 40.04192872117401]\n",
      "msr_output/ros_msr/saved_models_6/\n",
      "[[34531  1004]\n",
      " [ 1343   850]]\n",
      "[75.72716276015676, 93.7791560644614, 38.759689922480625, 45.84681769147789, 42.006424511984186]\n",
      "msr_output/ros_msr/saved_models_7/\n",
      "[[34515  1041]\n",
      " [ 1382   790]]\n",
      "[70.13264954181166, 93.57771416454622, 36.37200736648251, 43.14582195521573, 39.470397202098425]\n",
      "msr_output/ros_msr/saved_models_8/\n",
      "[[34619   950]\n",
      " [ 1387   772]]\n",
      "[74.38341665790833, 93.80566157760815, 35.75729504400185, 44.83159117305458, 39.78356093790259]\n",
      "msr_output/ros_msr/saved_models_9/\n",
      "[[34570   961]\n",
      " [ 1394   803]]\n",
      "[74.86113436019835, 93.75795165394402, 36.54984069185252, 45.52154195011338, 40.54531683918202]\n",
      "msr_output/ros_msr/saved_models_10/\n",
      "[[34602   968]\n",
      " [ 1334   824]]\n",
      "[78.09118049152124, 93.89843087362172, 38.18350324374421, 45.982142857142854, 41.721518987341774]\n",
      "msr_output/ros_msr/saved_models_11/\n",
      "[[34695   932]\n",
      " [ 1346   755]]\n",
      "[60.05300877286018, 93.96204410517387, 35.93526891956211, 44.75400118553646, 39.86272439281943]\n",
      "msr_output/ros_msr/saved_models_12/\n",
      "[[34671   945]\n",
      " [ 1374   738]]\n",
      "[76.57451326884922, 93.85337150127226, 34.94318181818182, 43.85026737967914, 38.89328063241107]\n",
      "msr_output/ros_msr/saved_models_13/\n",
      "[[34653   935]\n",
      " [ 1353   787]]\n",
      "[74.31879865522244, 93.93553859202714, 36.77570093457944, 45.70267131242741, 40.75608493008804]\n",
      "msr_output/ros_msr/saved_models_14/\n",
      "[[34569   942]\n",
      " [ 1378   839]]\n",
      "[76.4742981098934, 93.85072094995759, 37.843933243121334, 47.10836608646828, 41.97098549274638]\n",
      "msr_output/ros_msr/saved_models_15/\n",
      "[[34560   960]\n",
      " [ 1384   824]]\n",
      "[79.01079408212561, 93.78710771840542, 37.31884057971014, 46.18834080717489, 41.28256513026052]\n",
      "msr_output/ros_msr/saved_models_16/\n",
      "[[34574   994]\n",
      " [ 1364   796]]\n",
      "[68.79657874952099, 93.75, 36.851851851851855, 44.46927374301676, 40.30379746835443]\n",
      "msr_output/ros_msr/saved_models_17/\n",
      "[[34658   964]\n",
      " [ 1287   819]]\n",
      "[77.0780650667612, 94.03360899067006, 38.88888888888889, 45.93381940549636, 42.11879660581126]\n",
      "msr_output/ros_msr/saved_models_18/\n",
      "[[34730   897]\n",
      " [ 1373   728]]\n",
      "[72.78113745214627, 93.98324851569126, 34.65016658733936, 44.800000000000004, 39.07675791733764]\n"
     ]
    }
   ],
   "source": [
    "result_list = [] \n",
    "for i in range(0,19):\n",
    "    try:\n",
    "        test_dir = f'../msr_dataset/ros_msr/data_split_{i}/'\n",
    "        result_dir = f'msr_output/ros_msr/saved_models_{i}/'\n",
    "        print(result_dir)\n",
    "        result,sorted_zip,pred_prob = read_output(test_dir,result_dir)\n",
    "        # import pickle\n",
    "        # pickle.dump(sorted_zip, open( f'../../metrics_exp/data/Codebert_model/reveal/oss/{i}_zip_ans_pred_prob.pkl', \"wb\" ))\n",
    "        # result_list.append(result)\n",
    "    except:\n",
    "        print('error',i)"
   ]
  },
  {
   "cell_type": "code",
   "execution_count": 3,
   "metadata": {},
   "outputs": [
    {
     "name": "stdout",
     "output_type": "stream",
     "text": [
      "[[34612   911]\n",
      " [ 1380   825]]\n",
      "[70.96231479295169, 93.92758693808312, 37.41496598639456, 47.52304147465438, 41.86754630804364]\n"
     ]
    }
   ],
   "source": [
    "i=0\n",
    "test_dir = f'../msr_dataset/origin/data_split_{i}/'\n",
    "result_dir = f'msr_outout/ros_4x/'\n",
    "result,sorted_zip,pred_prob_2 = read_output(test_dir,result_dir)"
   ]
  },
  {
   "cell_type": "code",
   "execution_count": null,
   "metadata": {},
   "outputs": [],
   "source": [
    "import seaborn as sns\n",
    "sns.displot(pred_prob, kde=False, \n",
    "             bins=100, color = 'blue')"
   ]
  },
  {
   "cell_type": "code",
   "execution_count": null,
   "metadata": {},
   "outputs": [],
   "source": [
    "import seaborn as sns\n",
    "sns.displot(pred_prob_2, kde=False, \n",
    "             bins=100, color = 'blue')"
   ]
  },
  {
   "cell_type": "code",
   "execution_count": null,
   "metadata": {
    "pycharm": {
     "name": "#%%\n"
    }
   },
   "outputs": [],
   "source": [
    "import pandas as pd\n",
    "df = pd.DataFrame(result_list, columns = ['auc', 'acc','recall','precision','f1'])"
   ]
  },
  {
   "cell_type": "raw",
   "metadata": {
    "pycharm": {
     "name": "#%%\n"
    }
   },
   "source": [
    "zipped_result = zip(Ans,Pred,Pred_prob)\n",
    "sorted_zip = sorted(zipped_result, key=lambda x: x[2],reverse=True)\n",
    "import pickle\n",
    "pickle.dump(sorted_zip, open( f'{result_dir}zip_ans_pred_prob.pkl', \"wb\" ))"
   ]
  },
  {
   "cell_type": "code",
   "execution_count": null,
   "metadata": {},
   "outputs": [],
   "source": []
  }
 ],
 "metadata": {
  "kernelspec": {
   "display_name": "transformer_env",
   "language": "python",
   "name": "transformer_env"
  },
  "language_info": {
   "codemirror_mode": {
    "name": "ipython",
    "version": 3
   },
   "file_extension": ".py",
   "mimetype": "text/x-python",
   "name": "python",
   "nbconvert_exporter": "python",
   "pygments_lexer": "ipython3",
   "version": "3.8.8"
  }
 },
 "nbformat": 4,
 "nbformat_minor": 4
}
